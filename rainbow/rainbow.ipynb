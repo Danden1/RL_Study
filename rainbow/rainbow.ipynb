{
 "cells": [
  {
   "cell_type": "code",
   "execution_count": 4,
   "source": [
    "import math, random\r\n",
    "\r\n",
    "import gym\r\n",
    "import numpy as np\r\n",
    "\r\n",
    "import torch\r\n",
    "import torch.nn as nn\r\n",
    "import torch.optim as optim\r\n",
    "import torch.autograd as autograd \r\n",
    "import torch.nn.functional as F\r\n",
    "\r\n",
    "from layers import NoisyLinear\r\n",
    "from replay_buffer import ReplayBuffer\r\n",
    "\r\n",
    "from IPython.display import clear_output\r\n",
    "import matplotlib.pyplot as plt\r\n",
    "%matplotlib inline"
   ],
   "outputs": [],
   "metadata": {}
  },
  {
   "cell_type": "code",
   "execution_count": 5,
   "source": [
    "device = torch.device(\"cuda\" if torch.cuda.is_available() else \"cpu\")"
   ],
   "outputs": [
    {
     "output_type": "stream",
     "name": "stderr",
     "text": [
      "C:\\Users\\goh12\\anaconda3\\lib\\site-packages\\torch\\cuda\\__init__.py:52: UserWarning: CUDA initialization: CUDA unknown error - this may be due to an incorrectly set up environment, e.g. changing env variable CUDA_VISIBLE_DEVICES after program start. Setting the available devices to be zero. (Triggered internally at  ..\\c10\\cuda\\CUDAFunctions.cpp:115.)\n",
      "  return torch._C._cuda_getDeviceCount() > 0\n"
     ]
    }
   ],
   "metadata": {}
  },
  {
   "cell_type": "code",
   "execution_count": 9,
   "source": [
    "env = gym.make('CartPole-v0')"
   ],
   "outputs": [
    {
     "output_type": "stream",
     "name": "stdout",
     "text": [
      "[ 0.01513923 -0.04761216  0.04222901 -0.042706  ]\n"
     ]
    }
   ],
   "metadata": {}
  },
  {
   "cell_type": "code",
   "execution_count": null,
   "source": [
    "class RainbowDQN(nn.Module):\r\n",
    "    # distributional dqn + noisyNet\r\n",
    "    def __init__(self, num_inputs, num_actions, num_atoms, Vmin, Vmax):\r\n",
    "        super(RainbowDQN, self).__init__()\r\n",
    "\r\n",
    "        self.num_inputs = num_inputs\r\n",
    "        self.num_actions = num_actions\r\n",
    "        self.num_atoms = num_atoms\r\n",
    "        self.Vmin = Vmin\r\n",
    "        self.Vmax = Vmax\r\n"
   ],
   "outputs": [],
   "metadata": {}
  }
 ],
 "metadata": {
  "orig_nbformat": 4,
  "language_info": {
   "name": "python"
  }
 },
 "nbformat": 4,
 "nbformat_minor": 2
}